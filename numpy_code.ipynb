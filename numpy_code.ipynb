{
 "cells": [
  {
   "cell_type": "code",
   "execution_count": 1,
   "id": "51344a1e",
   "metadata": {},
   "outputs": [
    {
     "name": "stdout",
     "output_type": "stream",
     "text": [
      "[23 35 38 39 29]\n",
      "[29 37 29 46]\n"
     ]
    }
   ],
   "source": [
    "import numpy as np\n",
    "\n",
    "arr=np.array([23,35,38,39,29])\n",
    "print(arr)\n",
    "newarr=np.array([29,37,29,46])\n",
    "print(newarr)"
   ]
  },
  {
   "cell_type": "code",
   "execution_count": 2,
   "id": "22722daa",
   "metadata": {},
   "outputs": [
    {
     "name": "stdout",
     "output_type": "stream",
     "text": [
      "[[27 38 30 37 38]\n",
      " [28 39 47 49 20]]\n"
     ]
    }
   ],
   "source": [
    "#creating multidimentional array\n",
    "arr5=np.array([[27,38,30,37,38],\n",
    "              [28,39,47,49,20],\n",
    "              ])\n",
    "\n",
    "print(arr5)"
   ]
  },
  {
   "cell_type": "markdown",
   "id": "f31e6bb9",
   "metadata": {},
   "source": [
    "Use numpy Function like zeroes ,ones,full,eye,random rand"
   ]
  },
  {
   "cell_type": "code",
   "execution_count": null,
   "id": "92a6a431",
   "metadata": {},
   "outputs": [],
   "source": []
  },
  {
   "cell_type": "code",
   "execution_count": 3,
   "id": "a0306880",
   "metadata": {},
   "outputs": [
    {
     "name": "stdout",
     "output_type": "stream",
     "text": [
      "[[0. 0. 0.]\n",
      " [0. 0. 0.]\n",
      " [0. 0. 0.]]\n"
     ]
    }
   ],
   "source": [
    "arr=np.zeros((3,3))\n",
    "print(arr)"
   ]
  },
  {
   "cell_type": "markdown",
   "id": "a63fa0ba",
   "metadata": {},
   "source": [
    "Use the zero function"
   ]
  },
  {
   "cell_type": "code",
   "execution_count": 4,
   "id": "484b5f57",
   "metadata": {},
   "outputs": [
    {
     "name": "stdout",
     "output_type": "stream",
     "text": [
      "[[0. 0. 0. 0. 0.]\n",
      " [0. 0. 0. 0. 0.]\n",
      " [0. 0. 0. 0. 0.]\n",
      " [0. 0. 0. 0. 0.]\n",
      " [0. 0. 0. 0. 0.]]\n"
     ]
    }
   ],
   "source": [
    "arr=np.zeros((5,5))\n",
    "print(arr)"
   ]
  },
  {
   "cell_type": "markdown",
   "id": "0ee56d6f",
   "metadata": {},
   "source": [
    "Use the one function to create the matrix of value filled with one "
   ]
  },
  {
   "cell_type": "code",
   "execution_count": 5,
   "id": "a47f25fa",
   "metadata": {},
   "outputs": [
    {
     "name": "stdout",
     "output_type": "stream",
     "text": [
      "[[1. 1. 1. 1.]\n",
      " [1. 1. 1. 1.]\n",
      " [1. 1. 1. 1.]\n",
      " [1. 1. 1. 1.]]\n"
     ]
    }
   ],
   "source": [
    "one_matrix=np.ones((4,4))\n",
    "print(one_matrix)\n"
   ]
  },
  {
   "cell_type": "markdown",
   "id": "dde26a76",
   "metadata": {},
   "source": [
    "Use full function to create the matrix filled with particular value"
   ]
  },
  {
   "cell_type": "code",
   "execution_count": 6,
   "id": "10072d4e",
   "metadata": {},
   "outputs": [
    {
     "name": "stdout",
     "output_type": "stream",
     "text": [
      "[[9 9 9 9 9 9 9 9]\n",
      " [9 9 9 9 9 9 9 9]\n",
      " [9 9 9 9 9 9 9 9]\n",
      " [9 9 9 9 9 9 9 9]]\n"
     ]
    }
   ],
   "source": [
    "Full_matrix=np.full((4,8),9)\n",
    "print(Full_matrix)"
   ]
  },
  {
   "cell_type": "markdown",
   "id": "7a144a2c",
   "metadata": {},
   "source": [
    "To create the identity matrix use the eye function"
   ]
  },
  {
   "cell_type": "code",
   "execution_count": 7,
   "id": "d85d5acf",
   "metadata": {},
   "outputs": [
    {
     "name": "stdout",
     "output_type": "stream",
     "text": [
      "[[1. 0. 0. 0. 0.]\n",
      " [0. 1. 0. 0. 0.]\n",
      " [0. 0. 1. 0. 0.]\n",
      " [0. 0. 0. 1. 0.]\n",
      " [0. 0. 0. 0. 1.]]\n"
     ]
    }
   ],
   "source": [
    "identity_matrix=np.eye(5)\n",
    "print(identity_matrix)"
   ]
  },
  {
   "cell_type": "markdown",
   "id": "40a787e1",
   "metadata": {},
   "source": [
    "Use the Random function to ceate the random value matrix"
   ]
  },
  {
   "cell_type": "code",
   "execution_count": 8,
   "id": "7abc9975",
   "metadata": {},
   "outputs": [
    {
     "name": "stdout",
     "output_type": "stream",
     "text": [
      "[[0.53896479 0.23000568 0.19367647 0.00282015]\n",
      " [0.18588742 0.87527082 0.02337386 0.85037707]\n",
      " [0.6543428  0.3190782  0.72796584 0.91059441]\n",
      " [0.47400649 0.57081363 0.7939023  0.84466389]]\n"
     ]
    }
   ],
   "source": [
    "random_matrix=np.random.rand(4,4)\n",
    "print(random_matrix)"
   ]
  },
  {
   "cell_type": "markdown",
   "id": "9fc05925",
   "metadata": {},
   "source": [
    "Array attributes"
   ]
  },
  {
   "cell_type": "markdown",
   "id": "859f672d",
   "metadata": {},
   "source": [
    "arr.shape"
   ]
  },
  {
   "cell_type": "code",
   "execution_count": 9,
   "id": "01536733",
   "metadata": {},
   "outputs": [
    {
     "data": {
      "text/plain": [
       "(2, 4)"
      ]
     },
     "execution_count": 9,
     "metadata": {},
     "output_type": "execute_result"
    }
   ],
   "source": [
    "arr=np.array([[27,38,27,29],\n",
    "              [29,38,48,10]])\n",
    "arr.shape"
   ]
  },
  {
   "cell_type": "markdown",
   "id": "efc50492",
   "metadata": {},
   "source": [
    "array.size"
   ]
  },
  {
   "cell_type": "code",
   "execution_count": 10,
   "id": "15d64a2a",
   "metadata": {},
   "outputs": [
    {
     "data": {
      "text/plain": [
       "4"
      ]
     },
     "execution_count": 10,
     "metadata": {},
     "output_type": "execute_result"
    }
   ],
   "source": [
    "arr=np.array([28,39,48,39])\n",
    "arr.size\n"
   ]
  },
  {
   "cell_type": "markdown",
   "id": "60a31c2f",
   "metadata": {},
   "source": [
    "Data type finding function(arr.dtype)"
   ]
  },
  {
   "cell_type": "code",
   "execution_count": 11,
   "id": "c1829fdd",
   "metadata": {},
   "outputs": [
    {
     "data": {
      "text/plain": [
       "dtype('int64')"
      ]
     },
     "execution_count": 11,
     "metadata": {},
     "output_type": "execute_result"
    }
   ],
   "source": [
    "arr=np.array([[28,39,38,49],\n",
    "              [26,39,94,76]\n",
    "              ])\n",
    "arr.dtype"
   ]
  },
  {
   "cell_type": "code",
   "execution_count": 12,
   "id": "2aa8e8a8",
   "metadata": {},
   "outputs": [
    {
     "data": {
      "text/plain": [
       "dtype('<U6')"
      ]
     },
     "execution_count": 12,
     "metadata": {},
     "output_type": "execute_result"
    }
   ],
   "source": [
    "arr=np.array([\"pratik\",\"vijay\",\"naik\"])\n",
    "arr.dtype"
   ]
  },
  {
   "cell_type": "markdown",
   "id": "f31596a4",
   "metadata": {},
   "source": [
    "Array slicing and indexing"
   ]
  },
  {
   "cell_type": "code",
   "execution_count": 13,
   "id": "ee547c58",
   "metadata": {},
   "outputs": [
    {
     "name": "stdout",
     "output_type": "stream",
     "text": [
      "28\n"
     ]
    }
   ],
   "source": [
    "arr=np.array([29,38,30,28,39])\n",
    "print(arr[3])\n"
   ]
  },
  {
   "cell_type": "code",
   "execution_count": 14,
   "id": "e7579d6c",
   "metadata": {},
   "outputs": [
    {
     "name": "stdout",
     "output_type": "stream",
     "text": [
      "[39 48 29]\n"
     ]
    }
   ],
   "source": [
    "arr=np.array([28,39,48,29,29])\n",
    "print (arr[1:4])\n",
    "    "
   ]
  },
  {
   "cell_type": "markdown",
   "id": "26c82b59",
   "metadata": {},
   "source": [
    "Slicing 2D arrays"
   ]
  },
  {
   "cell_type": "code",
   "execution_count": 15,
   "id": "e23ea5af",
   "metadata": {},
   "outputs": [
    {
     "name": "stdout",
     "output_type": "stream",
     "text": [
      "[[38 49 47]\n",
      " [38 30 37]]\n"
     ]
    }
   ],
   "source": [
    "arr2D=np.array([[28,38,49,47],\n",
    "                [29,38,30,37],\n",
    "                [28,37,48,93],\n",
    "                [29,37,38,39]])\n",
    "print(arr2D[:2,1:])\n",
    "\n"
   ]
  },
  {
   "cell_type": "code",
   "execution_count": 16,
   "id": "b5d6ee8c",
   "metadata": {},
   "outputs": [
    {
     "name": "stdout",
     "output_type": "stream",
     "text": [
      "[[ 24  23 324]]\n"
     ]
    }
   ],
   "source": [
    "arrnew_2=np.array([[19,239,320,2442],[262546,2347,2348,2932],\n",
    "                   [234,24,23,324]])\n",
    "\n",
    "print(arrnew_2[2:,1:])"
   ]
  },
  {
   "cell_type": "code",
   "execution_count": 17,
   "id": "9b1f6e23",
   "metadata": {},
   "outputs": [
    {
     "name": "stdout",
     "output_type": "stream",
     "text": [
      "[28 35 23]\n"
     ]
    }
   ],
   "source": [
    "arr=np.array([28,3,34,35,34,32,23,21,98])\n",
    "print(arr[0::3]) #here the steing is three"
   ]
  },
  {
   "cell_type": "code",
   "execution_count": 18,
   "id": "a7c53fb8",
   "metadata": {},
   "outputs": [
    {
     "name": "stdout",
     "output_type": "stream",
     "text": [
      "[129  23  29]\n"
     ]
    }
   ],
   "source": [
    "arr=np.array([28,129,23,29,19,12,123,1237])\n",
    "print(arr[1:4:1]) #here the slicing start from index 1 and go to the index 3 and steping 1\n"
   ]
  },
  {
   "cell_type": "code",
   "execution_count": 19,
   "id": "8d8fac04",
   "metadata": {},
   "outputs": [
    {
     "name": "stdout",
     "output_type": "stream",
     "text": [
      "[2323   23   23  323]\n"
     ]
    }
   ],
   "source": [
    "arr=np.array([29,30,34,34,332,23,323,23,23,2323])\n",
    "print(arr[-1:-5:-1]) #"
   ]
  },
  {
   "cell_type": "code",
   "execution_count": 20,
   "id": "43174c75",
   "metadata": {},
   "outputs": [
    {
     "name": "stdout",
     "output_type": "stream",
     "text": [
      "[2323   23]\n"
     ]
    }
   ],
   "source": [
    "arr=np.array([29,30,34,34,332,23,323,23,23,2323])\n",
    "print(arr[-1:-5:-2]) #"
   ]
  },
  {
   "cell_type": "markdown",
   "id": "ad66c687",
   "metadata": {},
   "source": [
    "slicing 2D array"
   ]
  },
  {
   "cell_type": "markdown",
   "id": "f69b96f0",
   "metadata": {},
   "source": [
    "Acsessing the first Three rows"
   ]
  },
  {
   "cell_type": "code",
   "execution_count": 21,
   "id": "63a221f0",
   "metadata": {},
   "outputs": [
    {
     "name": "stdout",
     "output_type": "stream",
     "text": [
      "[[12 23 12 19 39 20 38 49 37]\n",
      " [38 48 29 10 38 49 38 34 38]\n",
      " [29 38 47 39 49 30 38 38 28]]\n"
     ]
    }
   ],
   "source": [
    "arr=np.array([[12,23,12,19,39,20,38,49,37],\n",
    "              [38,48,29,10,38,49,38,34,38],\n",
    "              [29,38,47,39,49,30,38,38,28],\n",
    "              [74,20,38,30,48,39,20,28,38]])\n",
    "\n",
    "print(arr[0:3])"
   ]
  },
  {
   "cell_type": "markdown",
   "id": "396c2c2a",
   "metadata": {},
   "source": [
    "Aceesing the first three columns"
   ]
  },
  {
   "cell_type": "code",
   "execution_count": 22,
   "id": "0af85aed",
   "metadata": {},
   "outputs": [
    {
     "name": "stdout",
     "output_type": "stream",
     "text": [
      "[[27 38 39]\n",
      " [19 28 38]\n",
      " [29 35 48]]\n"
     ]
    }
   ],
   "source": [
    "arr=np.array([[27,38,39,64,38,39,47],\n",
    "              [19,28,38,29,36,49,17],\n",
    "              [29,35,48,37,39,37,37]])\n",
    "\n",
    "print(arr[:,0:3])"
   ]
  },
  {
   "cell_type": "markdown",
   "id": "f63d08d6",
   "metadata": {},
   "source": [
    "accsessing the particular element"
   ]
  },
  {
   "cell_type": "code",
   "execution_count": 23,
   "id": "48d3ec37",
   "metadata": {},
   "outputs": [
    {
     "name": "stdout",
     "output_type": "stream",
     "text": [
      "48\n"
     ]
    }
   ],
   "source": [
    "arr=np.array([[29,38,47,53,47,28,27,38],\n",
    "              [72,38,37,29,27,39,27,38],\n",
    "              [18,29,38,29,39,29,38,38],\n",
    "              [28,38,39,38,49,35,48,38]])\n",
    "\n",
    "print(arr[3,6]) #48"
   ]
  },
  {
   "cell_type": "markdown",
   "id": "188ada3b",
   "metadata": {},
   "source": [
    "accessing the particular set of values from the matrix"
   ]
  },
  {
   "cell_type": "code",
   "execution_count": 24,
   "id": "8b860a22",
   "metadata": {},
   "outputs": [
    {
     "name": "stdout",
     "output_type": "stream",
     "text": [
      "[[39 28 29]\n",
      " [29 39 28]\n",
      " [38 38 38]]\n"
     ]
    }
   ],
   "source": [
    "arr=np.array([[28,38,39,38,27,29,38],\n",
    "              [19,28,39,37,39,28,29],\n",
    "              [28,38,29,38,29,39,28],\n",
    "              [28,39,28,29,38,38,38]])\n",
    "\n",
    "print(arr[1:,4:])"
   ]
  },
  {
   "cell_type": "markdown",
   "id": "fd8b66fb",
   "metadata": {},
   "source": [
    "slice with steps\n"
   ]
  },
  {
   "cell_type": "code",
   "execution_count": 25,
   "id": "b876f3af",
   "metadata": {},
   "outputs": [
    {
     "name": "stdout",
     "output_type": "stream",
     "text": [
      "[[27 28 38]\n",
      " [28 27 33]\n",
      " [28 48 29]]\n"
     ]
    }
   ],
   "source": [
    "arr=np.array([[27,45,28,26,38],\n",
    "              [28,39,27,28,33],\n",
    "              [28,37,48,38,29]])\n",
    "print(arr[: ,::2])"
   ]
  },
  {
   "cell_type": "markdown",
   "id": "8828a547",
   "metadata": {},
   "source": [
    "Mathematical operations"
   ]
  },
  {
   "cell_type": "markdown",
   "id": "22a14ac6",
   "metadata": {},
   "source": [
    "1 Addition"
   ]
  },
  {
   "cell_type": "code",
   "execution_count": 26,
   "id": "089c2b4a",
   "metadata": {},
   "outputs": [
    {
     "name": "stdout",
     "output_type": "stream",
     "text": [
      "[ 41 116 103  76  75  67 134  75]\n"
     ]
    }
   ],
   "source": [
    "arr1=np.array([18,29,38,38,48,29,48,38])\n",
    "arr2=np.array([23,87,65,38,27,38,86,37])\n",
    "sum=arr1 + arr2\n",
    "print(sum)\n"
   ]
  },
  {
   "cell_type": "markdown",
   "id": "9ad87341",
   "metadata": {},
   "source": [
    "2 Subtraction"
   ]
  },
  {
   "cell_type": "code",
   "execution_count": 27,
   "id": "47ea5cba",
   "metadata": {},
   "outputs": [
    {
     "name": "stdout",
     "output_type": "stream",
     "text": [
      "[ -7 -18  11]\n"
     ]
    }
   ],
   "source": [
    "arr1=np.array([29,28,37])\n",
    "arr2=np.array([36,46,26])\n",
    "sub= arr1 - arr2\n",
    "print(sub)"
   ]
  },
  {
   "cell_type": "markdown",
   "id": "89012aa9",
   "metadata": {},
   "source": [
    "Finding Square of the array elements"
   ]
  },
  {
   "cell_type": "code",
   "execution_count": 28,
   "id": "e07cc6e2",
   "metadata": {},
   "outputs": [
    {
     "name": "stdout",
     "output_type": "stream",
     "text": [
      "[[4 4 4 4 4 4]\n",
      " [4 4 4 4 4 4]\n",
      " [4 4 4 4 4 4]]\n"
     ]
    }
   ],
   "source": [
    "arr=np.array([[2,2,2,2,2,2],\n",
    "              [2,2,2,2,2,2],\n",
    "              [2,2,2,2,2,2]])\n",
    "print(arr**2)"
   ]
  },
  {
   "cell_type": "markdown",
   "id": "609c92ae",
   "metadata": {},
   "source": [
    "Taking the square root of the array"
   ]
  },
  {
   "cell_type": "code",
   "execution_count": 29,
   "id": "9cb02067",
   "metadata": {},
   "outputs": [
    {
     "name": "stdout",
     "output_type": "stream",
     "text": [
      "[5.38516481 6.164414   6.92820323 6.244998   5.29150262 5.38516481\n",
      " 4.79583152 1.73205081 2.23606798]\n"
     ]
    }
   ],
   "source": [
    "arr=np.array([29,38,48,39,28,29,23,3,5])\n",
    "print(np.sqrt(arr))"
   ]
  },
  {
   "cell_type": "markdown",
   "id": "4c5349c1",
   "metadata": {},
   "source": [
    "Aggregate Functions"
   ]
  },
  {
   "cell_type": "markdown",
   "id": "7c67f372",
   "metadata": {},
   "source": [
    "1 Sum"
   ]
  },
  {
   "cell_type": "code",
   "execution_count": 30,
   "id": "513b5750",
   "metadata": {},
   "outputs": [
    {
     "name": "stdout",
     "output_type": "stream",
     "text": [
      "225\n"
     ]
    }
   ],
   "source": [
    "arr=np.array([19,29,38,37,37,38,27])\n",
    "print(np.sum(arr))\n"
   ]
  },
  {
   "cell_type": "markdown",
   "id": "cb35d56a",
   "metadata": {},
   "source": [
    "2 Mean function"
   ]
  },
  {
   "cell_type": "code",
   "execution_count": 31,
   "id": "c6b6e8c9",
   "metadata": {},
   "outputs": [
    {
     "name": "stdout",
     "output_type": "stream",
     "text": [
      "42.714285714285715\n"
     ]
    }
   ],
   "source": [
    "arr=np.array([28,37,47,29,37,84,37])\n",
    "print(np.mean(arr))"
   ]
  },
  {
   "cell_type": "markdown",
   "id": "b74db957",
   "metadata": {},
   "source": [
    "3 Maximum Element In the array"
   ]
  },
  {
   "cell_type": "code",
   "execution_count": 32,
   "id": "f4ec10d0",
   "metadata": {},
   "outputs": [
    {
     "name": "stdout",
     "output_type": "stream",
     "text": [
      "39\n"
     ]
    }
   ],
   "source": [
    "arr=np.array([13,28,39,38,37,39,20])\n",
    "print(np.max(arr))\n"
   ]
  },
  {
   "cell_type": "markdown",
   "id": "8ab5429f",
   "metadata": {},
   "source": [
    "4 Minimum Number in an array"
   ]
  },
  {
   "cell_type": "code",
   "execution_count": 33,
   "id": "810f2dbb",
   "metadata": {},
   "outputs": [
    {
     "name": "stdout",
     "output_type": "stream",
     "text": [
      "17\n"
     ]
    }
   ],
   "source": [
    "arr=np.array([27,28,39,28,29,17])\n",
    "print(np.min(arr))\n"
   ]
  },
  {
   "cell_type": "markdown",
   "id": "bee78080",
   "metadata": {},
   "source": [
    "5 Product of the all elements in an array"
   ]
  },
  {
   "cell_type": "code",
   "execution_count": 34,
   "id": "425bcb5f",
   "metadata": {},
   "outputs": [
    {
     "name": "stdout",
     "output_type": "stream",
     "text": [
      "26309791872\n"
     ]
    }
   ],
   "source": [
    "arr=np.array([17,28,37,28,39,36,38])\n",
    "print(np.prod(arr))\n"
   ]
  },
  {
   "cell_type": "markdown",
   "id": "e005bdf7",
   "metadata": {},
   "source": [
    "#Reshape the matrix "
   ]
  },
  {
   "cell_type": "code",
   "execution_count": 35,
   "id": "82d5e169",
   "metadata": {},
   "outputs": [
    {
     "name": "stdout",
     "output_type": "stream",
     "text": [
      "[[28 39 47]\n",
      " [23 48 39]]\n"
     ]
    }
   ],
   "source": [
    "matrix=np.array([28,39,47,23,48,39])\n",
    "print(matrix.reshape(2,3))"
   ]
  },
  {
   "cell_type": "markdown",
   "id": "70ac90b5",
   "metadata": {},
   "source": [
    "Transpose of the matrix "
   ]
  },
  {
   "cell_type": "code",
   "execution_count": 36,
   "id": "2831ca55",
   "metadata": {},
   "outputs": [
    {
     "name": "stdout",
     "output_type": "stream",
     "text": [
      "[[29 46 28 28]\n",
      " [38 38 37 37]\n",
      " [48 47 49 48]\n",
      " [30 26 37 39]\n",
      " [36 38 20 38]\n",
      " [47 46 19 39]]\n"
     ]
    }
   ],
   "source": [
    "arr=np.array([[29,38,48,30,36,47],\n",
    "              [46,38,47,26,38,46],\n",
    "              [28,37,49,37,20,19],\n",
    "              [28,37,48,39,38,39]])\n",
    "print(arr.T)"
   ]
  },
  {
   "cell_type": "markdown",
   "id": "b670fa2f",
   "metadata": {},
   "source": [
    "#Stacking in the martix\n"
   ]
  },
  {
   "cell_type": "markdown",
   "id": "d6531adb",
   "metadata": {},
   "source": [
    "1 Vertical stacking"
   ]
  },
  {
   "cell_type": "markdown",
   "id": "0737194e",
   "metadata": {},
   "source": [
    "Example 1"
   ]
  },
  {
   "cell_type": "code",
   "execution_count": 37,
   "id": "8eea7aee",
   "metadata": {},
   "outputs": [
    {
     "name": "stdout",
     "output_type": "stream",
     "text": [
      "[[28 38 48 29 37 38 47]\n",
      " [37 48 27 39 36 37 46]]\n"
     ]
    }
   ],
   "source": [
    "arr1=np.array([28,38,48,29,37,38,47])\n",
    "arr2=np.array([37,48,27,39,36,37,46])\n",
    "print(np.vstack((arr1,arr2)))"
   ]
  },
  {
   "cell_type": "markdown",
   "id": "f5402888",
   "metadata": {},
   "source": [
    "Example 2"
   ]
  },
  {
   "cell_type": "code",
   "execution_count": 38,
   "id": "c042e48d",
   "metadata": {},
   "outputs": [
    {
     "name": "stdout",
     "output_type": "stream",
     "text": [
      "[[27 38 47 29 37 48 49]\n",
      " [65 47 38 47 29 37 46]]\n"
     ]
    }
   ],
   "source": [
    "arr1=np.array([27,38,47,29,37,48,49])\n",
    "arr2=np.array([65,47,38,47,29,37,46])\n",
    "print(np.vstack((arr1,arr2)))"
   ]
  },
  {
   "cell_type": "markdown",
   "id": "3d478fdf",
   "metadata": {},
   "source": [
    "2 Horinzontal Stacking"
   ]
  },
  {
   "cell_type": "code",
   "execution_count": 39,
   "id": "008a18e0",
   "metadata": {},
   "outputs": [
    {
     "name": "stdout",
     "output_type": "stream",
     "text": [
      "[28 37 48 29 27 39 27 17 37 28 29 38 47 37]\n"
     ]
    }
   ],
   "source": [
    "arr1=np.array([28,37,48,29,27,39,27])\n",
    "arr2=np.array([17,37,28,29,38,47,37])\n",
    "\n",
    "print(np.hstack((arr1,arr2)))"
   ]
  },
  {
   "cell_type": "markdown",
   "id": "7a5d8d00",
   "metadata": {},
   "source": [
    "#Filtering Using condition"
   ]
  },
  {
   "cell_type": "code",
   "execution_count": 40,
   "id": "434ccea5",
   "metadata": {},
   "outputs": [
    {
     "name": "stdout",
     "output_type": "stream",
     "text": [
      "[5 3]\n"
     ]
    }
   ],
   "source": [
    "arr=np.array([28,5,38,28,35,37,16,3,38])\n",
    "print(arr[arr<10])"
   ]
  },
  {
   "cell_type": "code",
   "execution_count": 41,
   "id": "5baf7e10",
   "metadata": {},
   "outputs": [
    {
     "name": "stdout",
     "output_type": "stream",
     "text": [
      "[18 29 49 38 19 28]\n"
     ]
    }
   ],
   "source": [
    "arr=np.array([18,29,3,49,38,19,28])\n",
    "print(arr[arr>10])"
   ]
  },
  {
   "cell_type": "markdown",
   "id": "f7b59df7",
   "metadata": {},
   "source": [
    "#Sorting In the arrays\n"
   ]
  },
  {
   "cell_type": "markdown",
   "id": "8f58a0fd",
   "metadata": {},
   "source": [
    "1 sorting in the 1D array"
   ]
  },
  {
   "cell_type": "code",
   "execution_count": 42,
   "id": "203631ae",
   "metadata": {},
   "outputs": [
    {
     "name": "stdout",
     "output_type": "stream",
     "text": [
      "[18 19 28 29 29 37 37]\n"
     ]
    }
   ],
   "source": [
    "arr=np.array([18,29,37,29,37,19,28])\n",
    "print(np.sort(arr))"
   ]
  },
  {
   "cell_type": "markdown",
   "id": "eb8cbbbf",
   "metadata": {},
   "source": [
    "2 Sorting in the 2D arrays"
   ]
  },
  {
   "cell_type": "code",
   "execution_count": 43,
   "id": "a4a4f23f",
   "metadata": {},
   "outputs": [
    {
     "name": "stdout",
     "output_type": "stream",
     "text": [
      "[[19 28 28 37 37 48 49]\n",
      " [20 28 29 38 38 40 47]\n",
      " [20 28 39 47 47 48 49]]\n"
     ]
    }
   ],
   "source": [
    "arr=np.array([[28,37,48,19,37,49,28],\n",
    "              [38,47,20,38,29,40,28],\n",
    "              [28,49,47,39,47,20,48]])\n",
    "\n",
    "print(np.sort(arr))"
   ]
  },
  {
   "cell_type": "markdown",
   "id": "c015a6fb",
   "metadata": {},
   "source": [
    "1 Vertical sorting in  the 2D  array"
   ]
  },
  {
   "cell_type": "code",
   "execution_count": 44,
   "id": "54e0f64d",
   "metadata": {},
   "outputs": [
    {
     "name": "stdout",
     "output_type": "stream",
     "text": [
      "[[19 20 20 28 39 48 49 49]\n",
      " [28 28 37 38 38 39 40 48]\n",
      " [18 29 37 37 38 48 49 49]\n",
      " [28 28 29 37 38 38 48 49]]\n"
     ]
    }
   ],
   "source": [
    "arr=np.array([[28,49,20,49,20,48,19,39],\n",
    "             [28,38,40,28,39,48,38,37],\n",
    "             [37,49,48,18,29,37,49,38],\n",
    "             [28,48,37,29,38,49,28,38]])\n",
    "print(np.sort(arr,axis=1))\n"
   ]
  },
  {
   "cell_type": "code",
   "execution_count": 45,
   "id": "91af8e72",
   "metadata": {},
   "outputs": [
    {
     "name": "stdout",
     "output_type": "stream",
     "text": [
      "[[39 28 37 48 10 27 38 28]\n",
      " [46 28 38 48 28 28 38 30]\n",
      " [90 45 39 49 29 38 39 47]]\n"
     ]
    }
   ],
   "source": [
    "arr=np.array([[90,28,38,49,29,27,38,30],\n",
    "              [39,28,39,48,10,28,38,28],\n",
    "              [46,45,37,48,28,38,39,47]])\n",
    "print(np.sort(arr,axis=0))"
   ]
  },
  {
   "cell_type": "markdown",
   "id": "54fac9d1",
   "metadata": {},
   "source": [
    "Condition filtering by using where() Function"
   ]
  },
  {
   "cell_type": "code",
   "execution_count": 46,
   "id": "4dda1947",
   "metadata": {},
   "outputs": [
    {
     "name": "stdout",
     "output_type": "stream",
     "text": [
      "(array([1, 2, 5, 6]),)\n"
     ]
    }
   ],
   "source": [
    "arr=np.array([29,48,49,19,29,38,47])\n",
    "print(np.where(arr>30))\n"
   ]
  },
  {
   "cell_type": "markdown",
   "id": "42c3adcc",
   "metadata": {},
   "source": [
    "Replaced Elements based on the condition by using where function"
   ]
  },
  {
   "cell_type": "code",
   "execution_count": 47,
   "id": "74f6b76d",
   "metadata": {},
   "outputs": [
    {
     "name": "stdout",
     "output_type": "stream",
     "text": [
      "['pratik' 'naik' 'pratik' 'naik' 'naik' 'naik' 'naik']\n"
     ]
    }
   ],
   "source": [
    "arr=np.array([28,100,48,101,596,102,69])\n",
    "print(np.where(arr<50,\"pratik\",\"naik\"))"
   ]
  },
  {
   "cell_type": "markdown",
   "id": "de05d814",
   "metadata": {},
   "source": [
    "Multiple conditon use by appling the where function"
   ]
  },
  {
   "cell_type": "code",
   "execution_count": 48,
   "id": "f35afaad",
   "metadata": {},
   "outputs": [
    {
     "name": "stdout",
     "output_type": "stream",
     "text": [
      "[29 38 48 29 28 27 39]\n"
     ]
    }
   ],
   "source": [
    "arr=np.array([29,38,48,29,28,27,39])\n",
    "result=np.where((arr<10)| (arr>20))\n",
    "print(arr[result])\n",
    "\n"
   ]
  },
  {
   "cell_type": "markdown",
   "id": "356c7c48",
   "metadata": {},
   "source": [
    "Concatinate function"
   ]
  },
  {
   "cell_type": "markdown",
   "id": "5b51f4cf",
   "metadata": {},
   "source": [
    "1 For 1D array"
   ]
  },
  {
   "cell_type": "code",
   "execution_count": 56,
   "id": "fc8ecaca",
   "metadata": {},
   "outputs": [
    {
     "name": "stdout",
     "output_type": "stream",
     "text": [
      "[28 49 37 48 28 40 38 27 37 48 37 38 26 39]\n"
     ]
    }
   ],
   "source": [
    "arr1=np.array([28,49,37,48,28,40,38])\n",
    "arr2=np.array([27,37,48,37,38,26,39])\n",
    "\n",
    "print(np.concatenate((arr1,arr2)))\n"
   ]
  },
  {
   "cell_type": "markdown",
   "id": "757e29af",
   "metadata": {},
   "source": [
    "2 For 2D array (Horizontal Concatenation)"
   ]
  },
  {
   "cell_type": "code",
   "execution_count": 57,
   "id": "06516b00",
   "metadata": {},
   "outputs": [
    {
     "name": "stdout",
     "output_type": "stream",
     "text": [
      "[[28  3 49 25 38 49]\n",
      " [27 49 38 37 49 27]\n",
      " [37 49 27 38 47 19]]\n"
     ]
    }
   ],
   "source": [
    "arr1=np.array([[28,3,49],\n",
    "               [27,49,38],\n",
    "               [37,49,27]])\n",
    "\n",
    "arr2=np.array([[25,38,49],\n",
    "               [37,49,27],\n",
    "               [38,47,19]])\n",
    "\n",
    "print(np.concatenate((arr1,arr2),axis=1))"
   ]
  },
  {
   "cell_type": "markdown",
   "id": "e8e52b98",
   "metadata": {},
   "source": [
    "2 For 2D array (Vertical Concatenation)"
   ]
  },
  {
   "cell_type": "code",
   "execution_count": 58,
   "id": "e6514b1a",
   "metadata": {},
   "outputs": [
    {
     "name": "stdout",
     "output_type": "stream",
     "text": [
      "[[37 48 27]\n",
      " [27 39 26]\n",
      " [35 38 46]\n",
      " [27 39 48]\n",
      " [37 48 36]\n",
      " [46 26 38]]\n"
     ]
    }
   ],
   "source": [
    "arr1=np.array([[37,48,27],\n",
    "               [27,39,26],\n",
    "               [35,38,46]])\n",
    "arr2=np.array([[27,39,48],\n",
    "               [37,48,36],\n",
    "               [46,26,38],\n",
    "               ])\n",
    "\n",
    "print(np.concatenate((arr1,arr2),axis=0))\n"
   ]
  },
  {
   "cell_type": "markdown",
   "id": "1b4e1f15",
   "metadata": {},
   "source": [
    "#Remove an element From an Array from particular Axis"
   ]
  },
  {
   "cell_type": "markdown",
   "id": "c19311f0",
   "metadata": {},
   "source": [
    "1 Remove row (axis=0)"
   ]
  },
  {
   "cell_type": "code",
   "execution_count": null,
   "id": "c3a85bdb",
   "metadata": {},
   "outputs": [
    {
     "name": "stdout",
     "output_type": "stream",
     "text": [
      "[[36 38 47]\n",
      " [28 37 28]]\n"
     ]
    }
   ],
   "source": [
    "arr1=np.array([[28,38,47],\n",
    "               [36,38,47],\n",
    "               [28,37,28]])\n",
    "deleted_array=np.delete(arr1,0,axis=0) #remove the row \n",
    "print(deleted_array)"
   ]
  },
  {
   "cell_type": "markdown",
   "id": "6070e1af",
   "metadata": {},
   "source": [
    "2 Remove column (axis=1)"
   ]
  },
  {
   "cell_type": "code",
   "execution_count": 61,
   "id": "c28d5bf0",
   "metadata": {},
   "outputs": [
    {
     "name": "stdout",
     "output_type": "stream",
     "text": [
      "[[28 49]\n",
      " [26 49]\n",
      " [28 19]]\n"
     ]
    }
   ],
   "source": [
    "arr=np.array([[28,37,49],\n",
    "              [26,38,49],\n",
    "              [28,49,19]\n",
    "              ])\n",
    "\n",
    "print(np.delete(arr,1,axis=1))"
   ]
  },
  {
   "cell_type": "markdown",
   "id": "f4560516",
   "metadata": {},
   "source": [
    "#Cumsum function (Cumulutive sum Function)\n"
   ]
  },
  {
   "cell_type": "markdown",
   "id": "5ca7b437",
   "metadata": {},
   "source": [
    "For 1D array"
   ]
  },
  {
   "cell_type": "code",
   "execution_count": 63,
   "id": "b0ee7fea",
   "metadata": {},
   "outputs": [
    {
     "name": "stdout",
     "output_type": "stream",
     "text": [
      "[ 28  66  85 113]\n"
     ]
    }
   ],
   "source": [
    "arr=np.array([28,38,19,28])\n",
    "print(np.cumsum(arr))\n"
   ]
  },
  {
   "cell_type": "markdown",
   "id": "e6844a33",
   "metadata": {},
   "source": [
    "For 2D array"
   ]
  },
  {
   "cell_type": "markdown",
   "id": "aa92067e",
   "metadata": {},
   "source": [
    "Vertical axis=1"
   ]
  },
  {
   "cell_type": "code",
   "execution_count": null,
   "id": "21499e0e",
   "metadata": {},
   "outputs": [
    {
     "name": "stdout",
     "output_type": "stream",
     "text": [
      "[[ 27  66 103 122 149]\n",
      " [ 37  85 104 141 159]\n",
      " [ 37  85 104 134 182]]\n"
     ]
    }
   ],
   "source": [
    "arr=np.array([[27,39,37,19,27],\n",
    "              [37,48,19,37,18],\n",
    "              [37,48,19,30,48]]) #Row wise\n",
    "print(np.cumsum(arr,axis=1))"
   ]
  },
  {
   "cell_type": "markdown",
   "id": "c857d870",
   "metadata": {},
   "source": [
    "Horizontal axis=0"
   ]
  },
  {
   "cell_type": "code",
   "execution_count": null,
   "id": "58c2dea0",
   "metadata": {},
   "outputs": [
    {
     "name": "stdout",
     "output_type": "stream",
     "text": [
      "[[ 36  38  49  18  19]\n",
      " [ 64  75  98  36  39]\n",
      " [102 103 137  76  76]]\n"
     ]
    }
   ],
   "source": [
    "arr=np.array([[36,38,49,18,19],\n",
    "              [28,37,49,18,20],\n",
    "              [38,28,39,40,37]]) #column wise\n",
    "print(np.cumsum(arr,axis=0))"
   ]
  },
  {
   "cell_type": "markdown",
   "id": "3f48b1e5",
   "metadata": {},
   "source": [
    "#Dot Product In the Numpy of the array"
   ]
  },
  {
   "cell_type": "markdown",
   "id": "f051c48a",
   "metadata": {},
   "source": [
    "1 For 1D array\n"
   ]
  },
  {
   "cell_type": "code",
   "execution_count": 68,
   "id": "f08cc206",
   "metadata": {},
   "outputs": [
    {
     "name": "stdout",
     "output_type": "stream",
     "text": [
      "3792\n"
     ]
    }
   ],
   "source": [
    "arr1=np.array([27,38,46])\n",
    "arr2=np.array([28,46,28])\n",
    "print(np.dot(arr1,arr2))"
   ]
  },
  {
   "cell_type": "markdown",
   "id": "f609cecb",
   "metadata": {},
   "source": [
    "2 For 2D array(It much imp that the matrix follow the law of matrix Multiplication)"
   ]
  },
  {
   "cell_type": "code",
   "execution_count": 76,
   "id": "5510e935",
   "metadata": {},
   "outputs": [
    {
     "name": "stdout",
     "output_type": "stream",
     "text": [
      "[[18 25]\n",
      " [36 52]]\n"
     ]
    }
   ],
   "source": [
    "arr1=np.array([[2,3,1],\n",
    "              [6,4,2],\n",
    "              ])\n",
    "\n",
    "arr2=np.array([[2,4],\n",
    "               [2,3],\n",
    "               [8,8]])\n",
    "\n",
    "print(np.dot(arr1,arr2))\n",
    "\n",
    "\n"
   ]
  },
  {
   "cell_type": "markdown",
   "id": "44225f71",
   "metadata": {},
   "source": [
    "#Vectorize Function(vectorize function is allowed to use python custom function In the numpy array)"
   ]
  },
  {
   "cell_type": "markdown",
   "id": "5476ca4a",
   "metadata": {},
   "source": [
    "Example 1"
   ]
  },
  {
   "cell_type": "code",
   "execution_count": null,
   "id": "e1d3df8f",
   "metadata": {},
   "outputs": [
    {
     "name": "stdout",
     "output_type": "stream",
     "text": [
      "[  1   8  27  64 125]\n"
     ]
    }
   ],
   "source": [
    "def cube(x):\n",
    "    return x*x*x  #here Create the custom function\n",
    "\n",
    "arr=np.array([1,2,3,4,5])\n",
    "vectorized_array=np.vectorize(cube) #passing the custom function in the vectorize function\n",
    "result=vectorized_array(arr)  #passing the arr in the vectorized object\n",
    "print(result)"
   ]
  },
  {
   "cell_type": "markdown",
   "id": "4c7458f2",
   "metadata": {},
   "source": [
    "2 Example "
   ]
  },
  {
   "cell_type": "code",
   "execution_count": 83,
   "id": "6b2f88ea",
   "metadata": {},
   "outputs": [
    {
     "name": "stdout",
     "output_type": "stream",
     "text": [
      "[1. 2. 3. 4. 5. 6.]\n"
     ]
    }
   ],
   "source": [
    "def squareRoot(x):\n",
    "    return x**0.5\n",
    "\n",
    "arr=np.array([1,4,9,16,25,36])\n",
    "vectorized_function=np.vectorize(squareRoot)\n",
    "final_value=vectorized_function(arr)\n",
    "print(final_value)"
   ]
  },
  {
   "cell_type": "markdown",
   "id": "f1c499b5",
   "metadata": {},
   "source": [
    "Example 3"
   ]
  },
  {
   "cell_type": "code",
   "execution_count": 86,
   "id": "d4a509e9",
   "metadata": {},
   "outputs": [
    {
     "name": "stdout",
     "output_type": "stream",
     "text": [
      "[ 81 196 100]\n"
     ]
    }
   ],
   "source": [
    "def average(x,y,z):\n",
    "    average=x+y+z\n",
    "    return (average)**2\n",
    "\n",
    "\n",
    "arr1=np.array([1,2,3])\n",
    "arr2=np.array([2,9,3])\n",
    "arr3=np.array([6,3,4])\n",
    "\n",
    "vectorized_function=np.vectorize(average)\n",
    "final_value=vectorized_function(arr1,arr2,arr3)\n",
    "print(final_value)    "
   ]
  }
 ],
 "metadata": {
  "kernelspec": {
   "display_name": "Python 3",
   "language": "python",
   "name": "python3"
  },
  "language_info": {
   "codemirror_mode": {
    "name": "ipython",
    "version": 3
   },
   "file_extension": ".py",
   "mimetype": "text/x-python",
   "name": "python",
   "nbconvert_exporter": "python",
   "pygments_lexer": "ipython3",
   "version": "3.12.5"
  }
 },
 "nbformat": 4,
 "nbformat_minor": 5
}
